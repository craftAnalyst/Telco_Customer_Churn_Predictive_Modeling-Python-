{
 "cells": [
  {
   "cell_type": "code",
   "execution_count": 6,
   "id": "7fc3d3bc-0342-4f00-97fa-7090343083a5",
   "metadata": {},
   "outputs": [
    {
     "name": "stdout",
     "output_type": "stream",
     "text": [
      "   customerID  gender  SeniorCitizen Partner Dependents  tenure PhoneService  \\\n",
      "0  7590-VHVEG  Female              0     Yes         No       1           No   \n",
      "1  5575-GNVDE    Male              0      No         No      34          Yes   \n",
      "2  3668-QPYBK    Male              0      No         No       2          Yes   \n",
      "3  7795-CFOCW    Male              0      No         No      45           No   \n",
      "4  9237-HQITU  Female              0      No         No       2          Yes   \n",
      "\n",
      "      MultipleLines InternetService OnlineSecurity  ... DeviceProtection  \\\n",
      "0  No phone service             DSL             No  ...               No   \n",
      "1                No             DSL            Yes  ...              Yes   \n",
      "2                No             DSL            Yes  ...               No   \n",
      "3  No phone service             DSL            Yes  ...              Yes   \n",
      "4                No     Fiber optic             No  ...               No   \n",
      "\n",
      "  TechSupport StreamingTV StreamingMovies        Contract PaperlessBilling  \\\n",
      "0          No          No              No  Month-to-month              Yes   \n",
      "1          No          No              No        One year               No   \n",
      "2          No          No              No  Month-to-month              Yes   \n",
      "3         Yes          No              No        One year               No   \n",
      "4          No          No              No  Month-to-month              Yes   \n",
      "\n",
      "               PaymentMethod MonthlyCharges  TotalCharges Churn  \n",
      "0           Electronic check          29.85         29.85    No  \n",
      "1               Mailed check          56.95        1889.5    No  \n",
      "2               Mailed check          53.85        108.15   Yes  \n",
      "3  Bank transfer (automatic)          42.30       1840.75    No  \n",
      "4           Electronic check          70.70        151.65   Yes  \n",
      "\n",
      "[5 rows x 21 columns]\n"
     ]
    }
   ],
   "source": [
    "import pandas as pd\n",
    "data=pd.read_excel('Telco_Data.xlsx')\n",
    "print(data.head())"
   ]
  },
  {
   "cell_type": "code",
   "execution_count": 10,
   "id": "4b4dbfa0-9772-4e51-94d6-796388c025c1",
   "metadata": {},
   "outputs": [
    {
     "name": "stdout",
     "output_type": "stream",
     "text": [
      "Churn\n",
      "Yes    1869\n",
      "No     1869\n",
      "Name: count, dtype: int64\n"
     ]
    }
   ],
   "source": [
    "positive_class=data[data['Churn']=='Yes']\n",
    "negative_class=data[data['Churn']=='No']\n",
    "sample_size=min(len(positive_class), len(negative_class))\n",
    "random_positive_sample=positive_class.sample(n=sample_size, random_state=42)\n",
    "random_negative_sample=negative_class.sample(n=sample_size, random_state=42)\n",
    "random_sample=pd.concat([random_positive_sample, random_negative_sample], axis=0)\n",
    "sample_distribution=random_sample['Churn'].value_counts()\n",
    "print(sample_distribution)"
   ]
  },
  {
   "cell_type": "code",
   "execution_count": 26,
   "id": "8d1e690b-a61a-4f63-bf55-3c4211ecb261",
   "metadata": {},
   "outputs": [
    {
     "name": "stderr",
     "output_type": "stream",
     "text": [
      "C:\\Users\\HP\\anaconda3\\Lib\\site-packages\\sklearn\\linear_model\\_logistic.py:469: ConvergenceWarning: lbfgs failed to converge (status=1):\n",
      "STOP: TOTAL NO. of ITERATIONS REACHED LIMIT.\n",
      "\n",
      "Increase the number of iterations (max_iter) or scale the data as shown in:\n",
      "    https://scikit-learn.org/stable/modules/preprocessing.html\n",
      "Please also refer to the documentation for alternative solver options:\n",
      "    https://scikit-learn.org/stable/modules/linear_model.html#logistic-regression\n",
      "  n_iter_i = _check_optimize_result(\n"
     ]
    },
    {
     "name": "stdout",
     "output_type": "stream",
     "text": [
      "Confusion Matrix:\n",
      " [[264 105]\n",
      " [ 65 314]]\n",
      "              precision    recall  f1-score   support\n",
      "\n",
      "          No       0.80      0.72      0.76       369\n",
      "         Yes       0.75      0.83      0.79       379\n",
      "\n",
      "    accuracy                           0.77       748\n",
      "   macro avg       0.78      0.77      0.77       748\n",
      "weighted avg       0.78      0.77      0.77       748\n",
      "\n"
     ]
    },
    {
     "data": {
      "image/png": "[encoded data removed]",
      "text/plain": [
       "<Figure size 640x480 with 2 Axes>"
      ]
     },
     "metadata": {},
     "output_type": "display_data"
    },
    {
     "name": "stdout",
     "output_type": "stream",
     "text": [
      "Feature Coefficients and Odds Ratios:\n",
      "                           Feature  Coefficient  Odds Ratio  Abs_Coefficient\n",
      "37              Contract_Two year    -1.149097      0.3169         1.149097\n",
      "35        Contract_Month-to-month     1.031237      2.8045         1.031237\n",
      "14            InternetService_DSL    -0.336025      0.7146         0.336025\n",
      "15    InternetService_Fiber optic     0.325659      1.3849         0.325659\n",
      "0                   SeniorCitizen     0.263709      1.3017         0.263709\n",
      "...                           ...          ...         ...              ...\n",
      "822            TotalCharges_299.3     0.000000      1.0000         0.000000\n",
      "3039          TotalCharges_5043.2     0.000000      1.0000         0.000000\n",
      "1187          TotalCharges_593.05     0.000000      1.0000         0.000000\n",
      "819            TotalCharges_298.7     0.000000      1.0000         0.000000\n",
      "1056          TotalCharges_467.85     0.000000      1.0000         0.000000\n",
      "\n",
      "[3544 rows x 4 columns]\n"
     ]
    }
   ],
   "source": [
    "from sklearn.model_selection import train_test_split\n",
    "from sklearn.preprocessing import StandardScaler\n",
    "from sklearn.linear_model import LogisticRegression\n",
    "from sklearn.metrics import classification_report, confusion_matrix\n",
    "import matplotlib.pyplot as plt\n",
    "import seaborn as sns\n",
    "import numpy as np\n",
    "import pandas as pd\n",
    "\n",
    "# Assuming `random_sample` is your dataset\n",
    "# Prepare the feature matrix X and target vector y\n",
    "X = random_sample.drop(['customerID', 'Churn'], axis=1)\n",
    "y = random_sample['Churn']\n",
    "\n",
    "# Convert categorical variables into dummy variables\n",
    "X = pd.get_dummies(X)\n",
    "\n",
    "# Split the data into training and testing sets\n",
    "X_train, X_test, y_train, y_test = train_test_split(X, y, test_size=0.2, random_state=42)\n",
    "\n",
    "# Train a Logistic Regression model\n",
    "model = LogisticRegression()\n",
    "model.fit(X_train, y_train)\n",
    "\n",
    "# Extract the model coefficients\n",
    "coefficients = model.coef_[0]\n",
    "coef_df = pd.DataFrame({'Feature': X.columns, 'Coefficient': coefficients})\n",
    "\n",
    "# Calculate Odds Ratios (exp of coefficients)\n",
    "coef_df['Odds Ratio'] = coef_df['Coefficient'].apply(lambda x: round(np.exp(x), 4))\n",
    "\n",
    "# Add absolute value of coefficients for sorting\n",
    "coef_df['Abs_Coefficient'] = coef_df['Coefficient'].abs()\n",
    "\n",
    "# Sort by absolute coefficient value\n",
    "coef_df = coef_df.sort_values(by='Abs_Coefficient', ascending=False)\n",
    "\n",
    "# Make predictions on the test set\n",
    "y_pred = model.predict(X_test)\n",
    "\n",
    "# Confusion matrix\n",
    "confusion = confusion_matrix(y_test, y_pred)\n",
    "\n",
    "# Display the confusion matrix\n",
    "print('Confusion Matrix:\\n', confusion)\n",
    "\n",
    "# Classification report\n",
    "print(classification_report(y_test, y_pred))\n",
    "\n",
    "# Plot the confusion matrix\n",
    "sns.heatmap(confusion, annot=True, cmap='YlGnBu', fmt='d')\n",
    "plt.xlabel('Predicted')\n",
    "plt.ylabel('Actual')\n",
    "plt.title('Confusion Matrix')\n",
    "plt.show()\n",
    "\n",
    "# Display feature coefficients and odds ratios\n",
    "print('Feature Coefficients and Odds Ratios:\\n', coef_df)\n"
   ]
  },
  {
   "cell_type": "code",
   "execution_count": null,
   "id": "5ac9be0a-16ac-47a1-9155-7f5f4ecadf49",
   "metadata": {},
   "outputs": [],
   "source": []
  }
 ],
 "metadata": {
  "kernelspec": {
   "display_name": "Python 3 (ipykernel)",
   "language": "python",
   "name": "python3"
  },
  "language_info": {
   "codemirror_mode": {
    "name": "ipython",
    "version": 3
   },
   "file_extension": ".py",
   "mimetype": "text/x-python",
   "name": "python",
   "nbconvert_exporter": "python",
   "pygments_lexer": "ipython3",
   "version": "3.12.4"
  }
 },
 "nbformat": 4,
 "nbformat_minor": 5
}
